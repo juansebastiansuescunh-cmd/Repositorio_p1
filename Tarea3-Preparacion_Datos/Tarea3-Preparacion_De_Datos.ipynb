{
 "cells": [
  {
   "cell_type": "code",
   "execution_count": 104,
   "metadata": {},
   "outputs": [],
   "source": [
    "import numpy as np\n",
    "import pandas as pd\n",
    "import seaborn as sns\n",
    "import matplotlib.pyplot as plt\n",
    "from scipy.stats import chi2_contingency, ttest_ind, mannwhitneyu\n"
   ]
  },
  {
   "cell_type": "markdown",
   "metadata": {},
   "source": [
    "Importar datos"
   ]
  },
  {
   "cell_type": "code",
   "execution_count": 105,
   "metadata": {},
   "outputs": [],
   "source": [
    "df = pd.read_csv(\"incident_event_log.csv\")"
   ]
  },
  {
   "cell_type": "markdown",
   "metadata": {},
   "source": [
    "Limpieza de datos para problemas 1 y 3:"
   ]
  },
  {
   "cell_type": "code",
   "execution_count": 106,
   "metadata": {},
   "outputs": [
    {
     "data": {
      "text/plain": [
       "(141712, 36)"
      ]
     },
     "execution_count": 106,
     "metadata": {},
     "output_type": "execute_result"
    }
   ],
   "source": [
    "#identificar duplicados\n",
    "\n",
    "no_duplicados = df.duplicated().value_counts()\n",
    "no_duplicados\n",
    "df.shape\n"
   ]
  },
  {
   "cell_type": "code",
   "execution_count": 107,
   "metadata": {},
   "outputs": [
    {
     "data": {
      "text/plain": [
       "number                     0\n",
       "incident_state             0\n",
       "active                     0\n",
       "reassignment_count         0\n",
       "reopen_count               0\n",
       "sys_mod_count              0\n",
       "made_sla                   0\n",
       "caller_id                  0\n",
       "opened_by                  0\n",
       "opened_at                  0\n",
       "sys_created_by             0\n",
       "sys_created_at             0\n",
       "sys_updated_by             0\n",
       "sys_updated_at             0\n",
       "contact_type               0\n",
       "location                   0\n",
       "category                   0\n",
       "subcategory                0\n",
       "u_symptom                  0\n",
       "cmdb_ci                    0\n",
       "impact                     0\n",
       "urgency                    0\n",
       "priority                   0\n",
       "assignment_group           0\n",
       "assigned_to                0\n",
       "knowledge                  0\n",
       "u_priority_confirmation    0\n",
       "notify                     0\n",
       "problem_id                 0\n",
       "rfc                        0\n",
       "vendor                     0\n",
       "caused_by                  0\n",
       "closed_code                0\n",
       "resolved_by                0\n",
       "resolved_at                0\n",
       "closed_at                  0\n",
       "dtype: int64"
      ]
     },
     "execution_count": 107,
     "metadata": {},
     "output_type": "execute_result"
    }
   ],
   "source": [
    "#Encontrar vacios \n",
    "df.isna().sum()"
   ]
  },
  {
   "cell_type": "markdown",
   "metadata": {},
   "source": [
    "Al comparar el número de columnas en el data frame y los no duplicasos el resultado es el mismo, no hay duplicados en este. De igual manera, no hay vacios en los datos"
   ]
  },
  {
   "cell_type": "code",
   "execution_count": 108,
   "metadata": {},
   "outputs": [],
   "source": [
    "#Sacar variables irrelevantes del data frame para los problemas 1 y 3:\n",
    "\n",
    "df_limpio_1y2 = df\n",
    "df_limpio_1y2 = df_limpio_1y2.drop([\"number\",\"caller_id\",\"opened_by\",\"sys_created_by\",\"sys_updated_by\",\"assignment_group\",\"assigned_to\",\n",
    "                                   \"vendor\",\"problem_id\",\"rfc\",\"caused_by\",\"cmdb_ci\",\"resolved_by\",\"closed_code\"], axis=1)"
   ]
  },
  {
   "cell_type": "markdown",
   "metadata": {},
   "source": [
    "Acá se sacan aquellas variables qu solo cumplen la función de identificar el problema a la hora del registro, debiso a que son identificadores son valores únicos para cada uno de los casos y por lo tanto no vale la pena tenerlos en cuenta en el modelo"
   ]
  },
  {
   "cell_type": "code",
   "execution_count": 109,
   "metadata": {},
   "outputs": [],
   "source": [
    "df_limpio_1y2 = df_limpio_1y2.drop([\"resolved_at\",\"closed_at\",\"sys_updated_at\",\"u_symptom\"], axis= 1)\n",
    "\n"
   ]
  },
  {
   "cell_type": "markdown",
   "metadata": {},
   "source": [
    "Se eliminan variables que conocemos después de que se resuelva el incidente, pues cuando es resuelto el incidente sabemos si se cumplio o no con el SLA, no vale la pena introducir variables a las cuales se les otorga valor después de conocer el resultado de SLA"
   ]
  },
  {
   "cell_type": "code",
   "execution_count": 110,
   "metadata": {},
   "outputs": [
    {
     "name": "stdout",
     "output_type": "stream",
     "text": [
      "Variables no significativas: ['opened_at', 'sys_created_at']\n"
     ]
    }
   ],
   "source": [
    "#Prueba de significancia para evaluar que variables vale la pena dejar:\n",
    "\n",
    "def pruebas_significancia(df, target=\"made_sla\"):\n",
    "    resultados = []\n",
    "    \n",
    "    columnas_continuas = df.select_dtypes(include=[\"int64\", \"float64\"]).columns.drop(target, errors=\"ignore\")\n",
    "    columnas_categoricas = df.select_dtypes(include=[\"object\", \"category\"]).columns\n",
    "\n",
    "    for i in columnas_categoricas:\n",
    "        try:\n",
    "            tabla = pd.crosstab(df[i], df[target])\n",
    "            chi2, p, dof, exp = chi2_contingency(tabla)\n",
    "            resultados.append({\"variable\": i, \"p_valor\": p})\n",
    "        except Exception as e:\n",
    "            resultados.append({\"variable\": i, \"p_valor\": None})\n",
    "\n",
    "    for j in columnas_continuas:\n",
    "        grupo1 = df[df[target]==1][j].dropna()\n",
    "        grupo0 = df[df[target]==0][j].dropna()\n",
    "\n",
    "        t, p_t = ttest_ind(grupo1, grupo0, equal_var=False, nan_policy=\"omit\")\n",
    "        resultados.append({\"variable\": j, \"p_valor\": p_t})\n",
    "\n",
    "\n",
    "    return pd.DataFrame(resultados)\n",
    "resultados = pruebas_significancia(df=df_limpio_1y2)\n",
    "no_significativas = resultados[resultados[\"p_valor\"] > 0.05]\n",
    "print(\"Variables no significativas:\", no_significativas[\"variable\"].tolist())\n",
    "\n"
   ]
  },
  {
   "cell_type": "markdown",
   "metadata": {},
   "source": [
    "En este codigo se realizan pruebas de significancia individual para identificar aquellas variables con algun tipo de impacto en la variable de interés, se saca una lista con las no significativas para eliminarlas del data frame pues el hecho de que no sean significativas nos indica que no estan relacionadas con la variable a predecir y por ende no deben ser tomadas en cuenta. "
   ]
  },
  {
   "cell_type": "code",
   "execution_count": 111,
   "metadata": {},
   "outputs": [],
   "source": [
    "#Eliminar variables no significativas del data frame: \n",
    "\n",
    "df_limpio_1y2 = df_limpio_1y2.drop([\"opened_at\", \"sys_created_at\"], axis=1)\n"
   ]
  },
  {
   "cell_type": "markdown",
   "metadata": {},
   "source": [
    "Identificar datos aberrantes:"
   ]
  },
  {
   "cell_type": "code",
   "execution_count": 112,
   "metadata": {},
   "outputs": [
    {
     "name": "stdout",
     "output_type": "stream",
     "text": [
      "0 0 0 0 0 0\n"
     ]
    }
   ],
   "source": [
    "contador_impact = ((df_limpio_1y2[\"impact\"].str[0].astype(int) > 3) | (df_limpio_1y2[\"impact\"].str[0].astype(int) < 1)).sum()\n",
    "contador_urgency = ((df_limpio_1y2[\"urgency\"].str[0].astype(int) > 3) | (df_limpio_1y2[\"urgency\"].str[0].astype(int) < 1)).sum()\n",
    "contador_priority = ((df_limpio_1y2[\"priority\"].str[0].astype(int) > 5) | (df_limpio_1y2[\"priority\"].str[0].astype(int) < 1)).sum()\n",
    "contador_rea_count = ((df_limpio_1y2[\"reassignment_count\"] < 0)).sum()\n",
    "contador_reo_count= ((df_limpio_1y2[\"reopen_count\"] < 0)).sum()\n",
    "contador_sys_mod = ((df_limpio_1y2[\"sys_mod_count\"] < 0)).sum()\n",
    "print(contador_impact,contador_urgency, contador_priority, contador_rea_count, contador_reo_count, contador_sys_mod)"
   ]
  },
  {
   "cell_type": "markdown",
   "metadata": {},
   "source": [
    "En impacto, urgencia y prioridad no hay datos aberrantes ya que todos se encuentran en los rangos de valores establecidos. De igual manera, en las variables que cuentan sucesos no hay datos aberrantes ya que no hay ningun valor menor a cero, que aería insensato."
   ]
  },
  {
   "cell_type": "markdown",
   "metadata": {},
   "source": [
    "identificar datos atipicos en continuas:"
   ]
  },
  {
   "cell_type": "code",
   "execution_count": 113,
   "metadata": {},
   "outputs": [
    {
     "data": {
      "image/png": "[encoded data removed]",
      "text/plain": [
       "<Figure size 640x480 with 1 Axes>"
      ]
     },
     "metadata": {},
     "output_type": "display_data"
    },
    {
     "data": {
      "image/png": "[encoded data removed]",
      "text/plain": [
       "<Figure size 640x480 with 1 Axes>"
      ]
     },
     "metadata": {},
     "output_type": "display_data"
    },
    {
     "data": {
      "image/png": "[encoded data removed]",
      "text/plain": [
       "<Figure size 640x480 with 1 Axes>"
      ]
     },
     "metadata": {},
     "output_type": "display_data"
    }
   ],
   "source": [
    "sns.boxplot(x=df_limpio_1y2[\"reassignment_count\"])\n",
    "plt.show()\n",
    "\n",
    "sns.boxplot(x=df_limpio_1y2[\"reopen_count\"])\n",
    "plt.show()\n",
    "\n",
    "sns.boxplot(x=df_limpio_1y2[\"sys_mod_count\"])\n",
    "plt.show()"
   ]
  },
  {
   "cell_type": "markdown",
   "metadata": {},
   "source": [
    "Estas graficas nos muestran que hay ciertos datos atipicos en los contadores, sin embrago no vale la pena eliminarlos pues son valores que es posible qu esucedan a pesar de que se vean alejados de la media."
   ]
  },
  {
   "cell_type": "markdown",
   "metadata": {},
   "source": [
    "Datos atípicos para categoricas:"
   ]
  },
  {
   "cell_type": "code",
   "execution_count": 114,
   "metadata": {},
   "outputs": [
    {
     "name": "stdout",
     "output_type": "stream",
     "text": [
      "\n",
      "Categorías raras en incident_state:\n",
      "Series([], Name: count, dtype: int64)\n",
      "\n",
      "Categorías raras en contact_type:\n",
      "Series([], Name: count, dtype: int64)\n",
      "\n",
      "Categorías raras en location:\n",
      "location\n",
      "Location 94     4\n",
      "Location 95     4\n",
      "Location 123    4\n",
      "Location 194    4\n",
      "Location 134    4\n",
      "Location 13     4\n",
      "Location 101    4\n",
      "Location 130    4\n",
      "Location 141    3\n",
      "Location 207    3\n",
      "Location 211    3\n",
      "Location 106    3\n",
      "Location 227    3\n",
      "Location 137    3\n",
      "Location 53     3\n",
      "Location 202    3\n",
      "Location 164    3\n",
      "Location 178    3\n",
      "Location 89     3\n",
      "Location 181    3\n",
      "Location 166    2\n",
      "Location 31     2\n",
      "Location 132    2\n",
      "Name: count, dtype: int64\n",
      "\n",
      "Categorías raras en category:\n",
      "category\n",
      "Category 15    3\n",
      "Category 12    3\n",
      "Category 36    2\n",
      "Category 49    2\n",
      "Category 27    2\n",
      "Category 3     1\n",
      "Name: count, dtype: int64\n",
      "\n",
      "Categorías raras en subcategory:\n",
      "subcategory\n",
      "Subcategory 97     4\n",
      "Subcategory 211    4\n",
      "Subcategory 87     4\n",
      "Subcategory 14     4\n",
      "Subcategory 131    4\n",
      "Subcategory 95     3\n",
      "Subcategory 141    3\n",
      "Subcategory 136    3\n",
      "Subcategory 128    3\n",
      "Subcategory 165    3\n",
      "Subcategory 84     3\n",
      "Subcategory 160    3\n",
      "Subcategory 236    3\n",
      "Subcategory 116    2\n",
      "Subcategory 157    2\n",
      "Subcategory 8      2\n",
      "Subcategory 124    2\n",
      "Subcategory 179    1\n",
      "Subcategory 241    1\n",
      "Subcategory 264    1\n",
      "Subcategory 284    1\n",
      "Name: count, dtype: int64\n",
      "\n",
      "Categorías raras en impact:\n",
      "Series([], Name: count, dtype: int64)\n",
      "\n",
      "Categorías raras en urgency:\n",
      "Series([], Name: count, dtype: int64)\n",
      "\n",
      "Categorías raras en priority:\n",
      "Series([], Name: count, dtype: int64)\n",
      "\n",
      "Categorías raras en notify:\n",
      "Series([], Name: count, dtype: int64)\n"
     ]
    }
   ],
   "source": [
    "columnas_categoricas = df_limpio_1y2.select_dtypes(include=[\"object\", \"category\"]).columns\n",
    "for i in columnas_categoricas:\n",
    "    print(f\"\\nCategorías raras en {i}:\")\n",
    "    print(df_limpio_1y2[i].value_counts()[df_limpio_1y2[i].value_counts() < 5])"
   ]
  },
  {
   "cell_type": "markdown",
   "metadata": {},
   "source": [
    "En las categoricas podemos ver que solo hay zonas que cuentan con menos de 5 datos que pertenecen a ellas, estas no se pueden eliminar ya que el hecho de que no se encuentren casi ubicaciones en ellas no lo hace un valor que no sea valido, pero si son categorias atipicas. "
   ]
  },
  {
   "cell_type": "markdown",
   "metadata": {},
   "source": [
    "Convertir categoricas en dummies para un manejo adecuado en el modelo:"
   ]
  },
  {
   "cell_type": "code",
   "execution_count": 115,
   "metadata": {},
   "outputs": [],
   "source": [
    "#Convertir columnas categoricas en dummies:\n",
    "\n",
    "df_limpio_1y2 = pd.get_dummies(df_limpio_1y2, columns= columnas_categoricas)\n"
   ]
  },
  {
   "cell_type": "markdown",
   "metadata": {},
   "source": [
    "Se convierten las columnas categoricas en variables dummies para después hacer un manejo de los datos adecuado, si les damos valores arbitrarios se pueden inflar los parametros a estimar, por esto es mejor tener dummies."
   ]
  },
  {
   "cell_type": "markdown",
   "metadata": {},
   "source": [
    "Preparación de datos problema 2:"
   ]
  },
  {
   "cell_type": "markdown",
   "metadata": {},
   "source": [
    "No se busacan vacios ni duplicados ya que eso ya se hizo al inicio de este codigo para todo el data frame"
   ]
  },
  {
   "cell_type": "code",
   "execution_count": 116,
   "metadata": {},
   "outputs": [],
   "source": [
    "df_problema_2 = df[[\"impact\",\"location\"]]"
   ]
  },
  {
   "cell_type": "markdown",
   "metadata": {},
   "source": [
    "crear un data frame que contenga unicamente las columnas de interes"
   ]
  },
  {
   "cell_type": "code",
   "execution_count": 117,
   "metadata": {},
   "outputs": [
    {
     "name": "stdout",
     "output_type": "stream",
     "text": [
      "0\n"
     ]
    }
   ],
   "source": [
    "#Buscar datos aberrantes: \n",
    "contador_impact_prob2 = ((df_problema_2[\"impact\"].str[0].astype(int) > 3) | (df_problema_2[\"impact\"].str[0].astype(int) < 1)).sum()\n",
    "print(contador_impact_prob2)"
   ]
  },
  {
   "cell_type": "markdown",
   "metadata": {},
   "source": [
    "No hay datos por fuera de las categorias establecidas para el impact, se puede decir que no hay datos aberrantes en el impacto "
   ]
  },
  {
   "cell_type": "code",
   "execution_count": 118,
   "metadata": {},
   "outputs": [
    {
     "name": "stdout",
     "output_type": "stream",
     "text": [
      "\n",
      "Categorías raras en impact:\n",
      "Series([], Name: count, dtype: int64)\n",
      "\n",
      "Categorías raras en location:\n",
      "location\n",
      "Location 94     4\n",
      "Location 95     4\n",
      "Location 123    4\n",
      "Location 194    4\n",
      "Location 134    4\n",
      "Location 13     4\n",
      "Location 101    4\n",
      "Location 130    4\n",
      "Location 141    3\n",
      "Location 207    3\n",
      "Location 211    3\n",
      "Location 106    3\n",
      "Location 227    3\n",
      "Location 137    3\n",
      "Location 53     3\n",
      "Location 202    3\n",
      "Location 164    3\n",
      "Location 178    3\n",
      "Location 89     3\n",
      "Location 181    3\n",
      "Location 166    2\n",
      "Location 31     2\n",
      "Location 132    2\n",
      "Name: count, dtype: int64\n"
     ]
    }
   ],
   "source": [
    "columnas = df_problema_2.columns\n",
    "for i in columnas:\n",
    "    print(f\"\\nCategorías raras en {i}:\")\n",
    "    print(df_problema_2[i].value_counts()[df_problema_2[i].value_counts() < 5])"
   ]
  },
  {
   "cell_type": "markdown",
   "metadata": {},
   "source": [
    "Solo hay datos atipicos para las ubicaciones, pues bastentes presentan frecuencias muy bajas. "
   ]
  },
  {
   "cell_type": "code",
   "execution_count": 120,
   "metadata": {},
   "outputs": [
    {
     "name": "stderr",
     "output_type": "stream",
     "text": [
      "/var/folders/3q/_06f4vwn6mjfb1cnm_130srm0000gn/T/ipykernel_6207/1724665632.py:7: SettingWithCopyWarning: \n",
      "A value is trying to be set on a copy of a slice from a DataFrame.\n",
      "Try using .loc[row_indexer,col_indexer] = value instead\n",
      "\n",
      "See the caveats in the documentation: https://pandas.pydata.org/pandas-docs/stable/user_guide/indexing.html#returning-a-view-versus-a-copy\n",
      "  df_problema_2[i] = df_problema_2[i].replace(poco_comunes, \"locations poco comunes\")\n",
      "/var/folders/3q/_06f4vwn6mjfb1cnm_130srm0000gn/T/ipykernel_6207/1724665632.py:7: SettingWithCopyWarning: \n",
      "A value is trying to be set on a copy of a slice from a DataFrame.\n",
      "Try using .loc[row_indexer,col_indexer] = value instead\n",
      "\n",
      "See the caveats in the documentation: https://pandas.pydata.org/pandas-docs/stable/user_guide/indexing.html#returning-a-view-versus-a-copy\n",
      "  df_problema_2[i] = df_problema_2[i].replace(poco_comunes, \"locations poco comunes\")\n"
     ]
    }
   ],
   "source": [
    "#Agrupar lactions poco comunes:\n",
    "\n",
    "maximo = 5\n",
    "for i in columnas:\n",
    "    conteos = df_problema_2[i].value_counts()\n",
    "    poco_comunes = conteos[conteos < maximo].index\n",
    "    df_problema_2[i] = df_problema_2[i].replace(poco_comunes, \"locations poco comunes\")"
   ]
  },
  {
   "cell_type": "markdown",
   "metadata": {},
   "source": [
    "Para analizar de manera más sencilla los datos se agrupan las locations pcoo comunes en una sola categoria "
   ]
  }
 ],
 "metadata": {
  "kernelspec": {
   "display_name": "Python 3",
   "language": "python",
   "name": "python3"
  },
  "language_info": {
   "codemirror_mode": {
    "name": "ipython",
    "version": 3
   },
   "file_extension": ".py",
   "mimetype": "text/x-python",
   "name": "python",
   "nbconvert_exporter": "python",
   "pygments_lexer": "ipython3",
   "version": "3.11.9"
  }
 },
 "nbformat": 4,
 "nbformat_minor": 2
}
